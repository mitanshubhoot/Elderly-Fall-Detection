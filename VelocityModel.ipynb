{
  "nbformat": 4,
  "nbformat_minor": 0,
  "metadata": {
    "colab": {
      "name": "VelocityModel2.ipynb",
      "provenance": []
    },
    "kernelspec": {
      "name": "python3",
      "display_name": "Python 3"
    }
  },
  "cells": [
    {
      "cell_type": "code",
      "metadata": {
        "id": "vRo_KQVPFmjn",
        "colab_type": "code",
        "colab": {}
      },
      "source": [
        ""
      ],
      "execution_count": null,
      "outputs": []
    },
    {
      "cell_type": "code",
      "metadata": {
        "id": "lQZCrp-iJ255",
        "colab_type": "code",
        "colab": {
          "base_uri": "https://localhost:8080/",
          "height": 331
        },
        "outputId": "497be25f-5814-4240-ea9a-0bf9c7039813"
      },
      "source": [
        "import pandas \n",
        "import numpy as np\n",
        "%matplotlib inline \n",
        "import matplotlib.pyplot as plot\n",
        "def dist(t):\n",
        "  r=15-0.5*9.8*((t)**2) #R=Height-1/2*at^2\n",
        "  # if(r<=0):\n",
        "  #   return 0\n",
        "  return r\n",
        "\n",
        "def dist_low(t):\n",
        "  r=15-0.5*9.8*((t+0.5)**2) # Lower bound\n",
        "  # if(r<=0):\n",
        "  #   return 0\n",
        "  return r\n",
        "\n",
        "def dist_high(t):\n",
        "  r=15-0.5*9.8*((t-0.5)**2) # Upper bound\n",
        "  # if(r<=0):\n",
        "  #   return 0\n",
        "  return r\n",
        "\n",
        "\n",
        "time = np.arange(0, 12, 1/30)\n",
        "print(len(time)) \n",
        "l=[]\n",
        "l_low=[]\n",
        "l_high=[]\n",
        "print(len(time))\n",
        "for i in time:\n",
        "  l.append(dist(i)) # actual refrence Curve\n",
        "for i in time:\n",
        "  l_low.append(dist_low(i)) # lower refrence Curve\n",
        "for i in time:\n",
        "  l_high.append(dist_high(i)) # upper refrence Curve\n",
        "#amplitude   = np.sin(time)\n",
        "dist_value=np.array(l)\n",
        "dist_low_value=np.array(l_low)\n",
        "dist_high_value=np.array(l_high) # converting to np array\n",
        "plot.scatter(time, dist_high_value) \n",
        "plot.scatter(time, dist_low_value)\n",
        "plot.scatter(time, dist_value)\n",
        "plot.title('ideal + error curve') # simply plotting\n",
        "\n",
        "plot.xlabel('Time')\n",
        "\n",
        "plot.ylabel(' velocity ')\n",
        "plot.grid(True, which='both')\n",
        "plot.axhline(y=0, color='red')\n",
        "plot.show()\n",
        "# Displaying the curve \n",
        "\n",
        "plot.show()"
      ],
      "execution_count": 145,
      "outputs": [
        {
          "output_type": "stream",
          "text": [
            "360\n",
            "360\n"
          ],
          "name": "stdout"
        },
        {
          "output_type": "display_data",
          "data": {
            "image/png": "[encoded data removed]",
            "text/plain": [
              "<Figure size 432x288 with 1 Axes>"
            ]
          },
          "metadata": {
            "tags": [],
            "needs_background": "light"
          }
        }
      ]
    },
    {
      "cell_type": "code",
      "metadata": {
        "id": "tXl9OVP_XdBh",
        "colab_type": "code",
        "colab": {
          "resources": {
            "http://localhost:8080/nbextensions/google.colab/files.js": {
              "data": "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",
              "ok": true,
              "headers": [
                [
                  "content-type",
                  "application/javascript"
                ]
              ],
              "status": 200,
              "status_text": ""
            }
          },
          "base_uri": "https://localhost:8080/",
          "height": 215
        },
        "outputId": "111c8a36-bdff-4dc0-de26-b4d83387725d"
      },
      "source": [
        "from google.colab import files\n",
        "uploaded = files.upload() # 5 video clips"
      ],
      "execution_count": 126,
      "outputs": [
        {
          "output_type": "display_data",
          "data": {
            "text/html": [
              "\n",
              "     <input type=\"file\" id=\"files-b35be6d2-53ed-4923-8cd9-a8c2e7235212\" name=\"files[]\" multiple disabled\n",
              "        style=\"border:none\" />\n",
              "     <output id=\"result-b35be6d2-53ed-4923-8cd9-a8c2e7235212\">\n",
              "      Upload widget is only available when the cell has been executed in the\n",
              "      current browser session. Please rerun this cell to enable.\n",
              "      </output>\n",
              "      <script src=\"/nbextensions/google.colab/files.js\"></script> "
            ],
            "text/plain": [
              "<IPython.core.display.HTML object>"
            ]
          },
          "metadata": {
            "tags": []
          }
        },
        {
          "output_type": "stream",
          "text": [
            "Saving Unscaled_data_8.csv to Unscaled_data_8 (1).csv\n",
            "Saving Unscaled_data_9.csv to Unscaled_data_9 (1).csv\n",
            "Saving Unscaled_data_10.csv to Unscaled_data_10 (1).csv\n",
            "Saving Unscaled_data_11.csv to Unscaled_data_11 (2).csv\n",
            "Saving Unscaled_data_12.csv to Unscaled_data_12 (1).csv\n"
          ],
          "name": "stdout"
        }
      ]
    },
    {
      "cell_type": "code",
      "metadata": {
        "id": "-LJ8pnFuXp-n",
        "colab_type": "code",
        "colab": {
          "base_uri": "https://localhost:8080/",
          "height": 399
        },
        "outputId": "892e8841-c2a3-479f-edfa-300a48183051"
      },
      "source": [
        "dataname=\"Unscaled_data_11.csv\"\n",
        "dataframe = pandas.read_csv(dataname)\n",
        "print((dataframe))\n",
        "print(dataframe.columns)"
      ],
      "execution_count": 157,
      "outputs": [
        {
          "output_type": "stream",
          "text": [
            "      SR      Head_x      Head_y  ...  rightKnee_y  rightAnkle_x  rightAnkle_y\n",
            "0      1  310.432508   49.348431  ...   304.222833    361.369029    382.559627\n",
            "1      2  311.043979   47.253682  ...   302.546553    359.560781    383.463913\n",
            "2      3  313.462100   47.719330  ...   309.036688    359.446559    390.174290\n",
            "3      4  316.743040   49.370287  ...   308.102204    357.892441    388.746105\n",
            "4      5  318.867034   49.323971  ...   304.854153    364.828862    385.336906\n",
            "..   ...         ...         ...  ...          ...           ...           ...\n",
            "126  126  232.366169  369.314020  ...   448.943666    533.031721    477.708885\n",
            "127  127  237.552245  366.110324  ...   446.509993    548.981910    475.230805\n",
            "128  128  237.244100  366.567344  ...   447.682412    540.812140    477.421728\n",
            "129  129  237.982266  365.933978  ...   448.309537    538.093228    475.859583\n",
            "130  130  237.782543  366.621770  ...   449.520793    538.082309    478.654738\n",
            "\n",
            "[131 rows x 27 columns]\n",
            "Index(['SR', 'Head_x', 'Head_y', 'leftShoulder_x', 'leftShoulder_y',\n",
            "       'leftElbow_x', 'leftElbow_y', 'leftWrist_x', 'leftWrist_y',\n",
            "       'rightShoulder_x', 'rightShoulder_y', 'rightElbow_x', 'rightElbow_y',\n",
            "       'rightWrist_x', 'rightWrist_y', 'leftHip_x', 'leftHip_y', 'leftKnee_x',\n",
            "       'leftKnee_y', 'leftAnkle_x', 'leftAnkle_y', 'rightHip_x', 'rightHip_y',\n",
            "       'rightKnee_x', 'rightKnee_y', 'rightAnkle_x', 'rightAnkle_y'],\n",
            "      dtype='object')\n"
          ],
          "name": "stdout"
        }
      ]
    },
    {
      "cell_type": "code",
      "metadata": {
        "id": "Vtlj2YH3aYLz",
        "colab_type": "code",
        "colab": {
          "base_uri": "https://localhost:8080/",
          "height": 272
        },
        "outputId": "053bbf7a-e64a-4233-ec6d-86a43e0ecc33"
      },
      "source": [
        "df_only_fall = pandas.DataFrame(np.array([[0 for i in range(27)]]),columns=dataframe.columns)\n",
        "l=[]\n",
        "\n",
        "#In the dataset we didn't had direct head joint \n",
        "#We had the ear,nose and eye joint\n",
        "#so we took the mean of all and considered as head joint\n",
        "\n",
        "\n",
        "for row in dataframe.values:\n",
        "  # if(row[-1]==0): continue\n",
        "  df_temp = pandas.DataFrame(np.array([row]),columns=dataframe.columns)\n",
        "  df_only_fall=df_only_fall.append(df_temp, ignore_index = True)\n",
        "  #df_only_fall=df_only_fall.append(np.array(row))\\\n",
        "df_only_fall=df_only_fall.drop(0,axis=0)\n",
        "# after this complete for loop we get data of only fall frames and stored in df_only_fall variable \n",
        "print(df_only_fall,len(df_only_fall))"
      ],
      "execution_count": 158,
      "outputs": [
        {
          "output_type": "stream",
          "text": [
            "        SR      Head_x      Head_y  ...  rightKnee_y  rightAnkle_x  rightAnkle_y\n",
            "1      1.0  310.432508   49.348431  ...   304.222833    361.369029    382.559627\n",
            "2      2.0  311.043979   47.253682  ...   302.546553    359.560781    383.463913\n",
            "3      3.0  313.462100   47.719330  ...   309.036688    359.446559    390.174290\n",
            "4      4.0  316.743040   49.370287  ...   308.102204    357.892441    388.746105\n",
            "5      5.0  318.867034   49.323971  ...   304.854153    364.828862    385.336906\n",
            "..     ...         ...         ...  ...          ...           ...           ...\n",
            "127  126.0  232.366169  369.314020  ...   448.943666    533.031721    477.708885\n",
            "128  127.0  237.552245  366.110324  ...   446.509993    548.981910    475.230805\n",
            "129  128.0  237.244100  366.567344  ...   447.682412    540.812140    477.421728\n",
            "130  129.0  237.982266  365.933978  ...   448.309537    538.093228    475.859583\n",
            "131  130.0  237.782543  366.621770  ...   449.520793    538.082309    478.654738\n",
            "\n",
            "[131 rows x 27 columns] 131\n"
          ],
          "name": "stdout"
        }
      ]
    },
    {
      "cell_type": "code",
      "metadata": {
        "id": "ytvGbeu-WebC",
        "colab_type": "code",
        "colab": {
          "base_uri": "https://localhost:8080/",
          "height": 35
        },
        "outputId": "ea91c3bc-e3c5-4a65-bbaf-45804bf4bdad"
      },
      "source": [
        "sub_list=[]\n",
        "for i in range(len(df_only_fall.values)-2):\n",
        "  sub_list.append(abs(df_only_fall.values[i][2]-df_only_fall.values[i+1][2]))\n",
        "sub_list.append(1)\n",
        "sub_list.append(1)\n",
        "print(len(sub_list))\n",
        "# print(len(df_only_fall['SN']))"
      ],
      "execution_count": 159,
      "outputs": [
        {
          "output_type": "stream",
          "text": [
            "131\n"
          ],
          "name": "stdout"
        }
      ]
    },
    {
      "cell_type": "code",
      "metadata": {
        "id": "hcPOU4pGgv86",
        "colab_type": "code",
        "colab": {
          "base_uri": "https://localhost:8080/",
          "height": 265
        },
        "outputId": "d6837bfd-71db-424b-eab8-dd51dbffa626"
      },
      "source": [
        "# plot of y coordinate\n",
        "\n",
        "# print(df_only_fall['SN']) # fram no.\n",
        "srno=[ i for i in range(len(df_only_fall.values))]\n",
        "srno=np.array(srno)\n",
        "\n",
        "plot.scatter(srno, df_only_fall['Head_y'])# pplot of frame number to y cordinate\n",
        "plot.axhline(y=0, color='red')\n",
        "\n",
        "plot.show()"
      ],
      "execution_count": 160,
      "outputs": [
        {
          "output_type": "display_data",
          "data": {
            "image/png": "[encoded data removed]",
            "text/plain": [
              "<Figure size 432x288 with 1 Axes>"
            ]
          },
          "metadata": {
            "tags": [],
            "needs_background": "light"
          }
        }
      ]
    },
    {
      "cell_type": "code",
      "metadata": {
        "id": "L4q66DQZtb8Y",
        "colab_type": "code",
        "colab": {
          "base_uri": "https://localhost:8080/",
          "height": 74
        },
        "outputId": "7528dc2b-b12a-43c3-d478-d3f1a09c7693"
      },
      "source": [
        "ideal_slope=[]\n",
        "for i in range(len(l_low)-1):\n",
        "  ideal_slope.append((l_low[i]-l_low[i+1])/(time[i+1]-time[i]))\n",
        "print(len(ideal_slope))\n",
        "print(ideal_slope)\n",
        "# calculating the slope of idea curve. this we'll need for matching the testing curve"
      ],
      "execution_count": 161,
      "outputs": [
        {
          "output_type": "stream",
          "text": [
            "359\n",
            "[0.16333333333333755, 0.49000000000001265, 0.8166666666666343, 1.143333333333363, 1.4699999999999849, 1.7966666666666586, 2.1233333333333353, 2.4500000000000104, 2.7766666666666855, 3.1033333333333077, 3.429999999999983, 3.756666666666705, 4.083333333333333, 4.410000000000008, 4.73666666666663, 5.063333333333358, 5.38999999999998, 5.716666666666655, 6.043333333333331, 6.370000000000006, 6.696666666666681, 7.0233333333333565, 7.349999999999978, 7.676666666666681, 8.003333333333329, 8.330000000000004, 8.656666666666679, 8.9833333333333, 9.309999999999976, 9.636666666666704, 9.963333333333306, 10.29000000000002, 10.616666666666694, 10.943333333333282, 11.270000000000042, 11.59666666666666, 11.923333333333337, 12.250000000000014, 12.576666666666632, 12.903333333333393, 13.229999999999928, 13.556666666666692, 13.88333333333333, 14.20999999999999, 14.536666666666678, 14.863333333333397, 15.189999999999971, 15.5166666666667, 15.84333333333332, 16.169999999999995, 16.496666666666616, 16.82333333333334, 17.150000000000023, 17.47666666666669, 17.803333333333324, 18.130000000000038, 18.45666666666662, 18.78333333333328, 19.11000000000008, 19.43666666666663, 19.76333333333333, 20.090000000000003, 20.41666666666662, 20.743333333333357, 21.070000000000032, 21.396666666666636, 21.72333333333328, 22.05000000000006, 22.376666666666736, 22.703333333333326, 23.029999999999877, 23.356666666666765, 23.683333333333337, 24.010000000000012, 24.336666666666687, 24.663333333333366, 24.989999999999828, 25.3166666666667, 25.643333333333395, 25.970000000000176, 26.296666666666397, 26.623333333333317, 26.9500000000001, 27.276666666666667, 27.603333333333296, 27.93000000000002, 28.256666666666803, 28.58333333333316, 28.910000000000196, 29.236666666666512, 29.56333333333351, 29.89000000000008, 30.216666666666672, 30.54333333333322, 30.87, 31.196666666666793, 31.52333333333314, 31.850000000000136, 32.17666666666649, 32.50333333333348, 32.830000000000055, 33.15666666666642, 33.48333333333341, 33.80999999999996, 34.13666666666676, 34.46333333333333, 34.79000000000011, 35.116666666666646, 35.443333333333044, 35.77000000000025, 36.096666666666394, 36.42333333333376, 36.74999999999953, 37.07666666666696, 37.40333333333346, 37.72999999999967, 38.056666666666665, 38.38333333333366, 38.70999999999972, 39.036666666666804, 39.36333333333337, 39.68999999999994, 40.016666666666936, 40.34333333333308, 40.67000000000027, 40.996666666666215, 41.32333333333364, 41.649999999999785, 41.97666666666678, 42.30333333333335, 42.62999999999992, 42.95666666666662, 43.28333333333349, 43.60999999999963, 43.93666666666705, 44.26333333333319, 44.59000000000019, 44.91666666666676, 45.243333333332906, 45.57000000000039, 45.896666666666896, 46.22333333333261, 46.55000000000046, 46.8766666666666, 47.20333333333318, 47.53000000000017, 47.85666666666674, 48.18333333333331, 48.50999999999988, 48.83666666666687, 49.16333333333302, 49.49000000000044, 49.816666666666585, 50.14333333333273, 50.47000000000051, 50.79666666666629, 51.12333333333329, 51.45000000000029, 51.77666666666728, 52.103333333333424, 52.429999999998714, 52.75666666666687, 53.08333333333356, 53.409999999999705, 53.73666666666755, 54.06333333333284, 54.38999999999984, 54.71666666666683, 55.04333333333298, 55.3700000000002, 55.69666666666697, 56.02333333333311, 56.35000000000011, 56.6766666666671, 57.0033333333324, 57.33000000000025, 57.65666666666656, 57.98333333333424, 58.309999999998674, 58.636666666667374, 58.96333333333266, 59.29000000000137, 59.61666666666581, 59.94333333333451, 60.269999999999044, 60.596666666667645, 60.923333333332934, 61.249999999999936, 61.57666666666608, 61.903333333333926, 62.23000000000007, 62.556666666667105, 62.88333333333235, 63.21000000000021, 63.53666666666635, 63.8633333333342, 64.18999999999863, 64.51666666666733, 64.84333333333348, 65.17000000000044, 65.49666666666576, 65.82333333333446, 66.14999999999891, 66.47666666666676, 66.80333333333375, 67.1299999999999, 67.45666666666689, 67.78333333333293, 68.11000000000003, 68.43666666666702, 68.76333333333316, 69.09000000000016, 69.41666666666715, 69.7433333333333, 70.06999999999928, 70.3966666666673, 70.72333333333344, 71.04999999999873, 71.37666666666829, 71.70333333333272, 72.03000000000057, 72.356666666665, 72.68333333333433, 73.0100000000007, 73.33666666666514, 73.66333333333299, 73.99000000000083, 74.31666666666699, 74.64333333333313, 74.97000000000068, 75.29666666666712, 75.62333333333156, 75.95000000000111, 76.27666666666555, 76.6033333333334, 76.93000000000124, 77.25666666666568, 77.58333333333317, 77.90999999999967, 78.23666666666753, 78.56333333333367, 78.88999999999982, 79.21666666666766, 79.5433333333321, 79.86999999999995, 80.1966666666678, 80.52333333333223, 80.85000000000008, 81.17666666666702, 81.50333333333407, 81.8299999999985, 82.15666666666637, 82.48333333333422, 82.81000000000036, 83.1366666666665, 83.46333333333264, 83.79000000000049, 84.11666666666663, 84.44333333333277, 84.77000000000062, 85.09666666666676, 85.4233333333329, 85.74999999999905, 86.07666666666744, 86.40333333333305, 86.7300000000009, 87.05666666666704, 87.38333333333148, 87.71000000000103, 88.03666666666717, 88.36333333333332, 88.68999999999946, 89.0166666666656, 89.34333333333515, 89.66999999999959, 89.99666666666744, 90.3233333333336, 90.64999999999803, 90.97666666666785, 91.30333333333373, 91.62999999999816, 91.95666666666942, 92.28333333333215, 92.6099999999983, 92.93666666666785, 93.26333333333399, 93.59000000000013, 93.91666666666627, 94.24333333333243, 94.57000000000028, 94.89666666666812, 95.22333333333256, 95.5499999999987, 95.87666666666826, 96.2033333333327, 96.53000000000054, 96.85666666666668, 97.18333333333283, 97.50999999999897, 97.83666666666852, 98.16333333333297, 98.48999999999911, 98.81666666666696, 99.14333333333481, 99.46999999999925, 99.7966666666671, 100.12333333333324, 100.44999999999767, 100.77666666666867, 101.10333333333337, 101.42999999999951, 101.75666666666565, 102.08333333333522, 102.40999999999795, 102.7366666666675, 103.06333333333365, 103.38999999999979, 103.71666666666934, 104.04333333333207, 104.37000000000162, 104.69666666666436, 105.0233333333305, 105.35000000000346, 105.67666666666398, 106.00333333333576, 106.32999999999849, 106.65666666666804, 106.98333333333078, 107.31000000000374, 107.63666666666647, 107.9633333333292, 108.29000000000217, 108.61666666666831, 108.94333333333104, 109.27000000000059, 109.59666666666674, 109.92333333333288, 110.24999999999903, 110.57666666666951, 110.90333333333132, 111.23000000000087, 111.55666666666701, 111.88333333333657, 112.20999999999589, 112.53666666666885, 112.86333333333158, 113.18999999999772, 113.51666666667069, 113.84333333333342, 114.16999999999616, 114.49666666666913, 114.82333333333186, 115.15000000000141, 115.47666666666481, 115.80333333333711, 116.12999999999984, 116.45666666666598, 116.78333333332871, 117.11000000000509]\n"
          ],
          "name": "stdout"
        }
      ]
    },
    {
      "cell_type": "code",
      "metadata": {
        "id": "9WwLIwAjBisN",
        "colab_type": "code",
        "colab": {}
      },
      "source": [
        ""
      ],
      "execution_count": 161,
      "outputs": []
    },
    {
      "cell_type": "code",
      "metadata": {
        "id": "vUxfscXPwz4i",
        "colab_type": "code",
        "colab": {
          "base_uri": "https://localhost:8080/",
          "height": 74
        },
        "outputId": "8b51e24d-3fe1-4844-aef0-c932f7fe0339"
      },
      "source": [
        "# testing data of slope - grp of 10 each\n",
        "test_list=[] # slope of all the testing curve points. example if we have continuos 20 fall frame then this variable we contain 19 slopes.\n",
        "temp=[] # this will contain the group of 10 each . ex if we have 19 slopes then it will contain 1:5,2:6,.....,14:19\n",
        "for i in range(0,len(df_only_fall.values)-1):\n",
        "  slope=(df_only_fall.values[i+1][2]-df_only_fall.values[i][2])/(srno[i+1]-srno[i])\n",
        "  temp.append(slope)\n",
        "i=0\n",
        "while(i+10<len(temp)):\n",
        "  test_list.append(temp[i:i+10])\n",
        "  i+=1\n",
        "print(test_list)\n",
        "print(len(test_list)) "
      ],
      "execution_count": 162,
      "outputs": [
        {
          "output_type": "stream",
          "text": [
            "[[-2.094749043178844, 0.4656474625675102, 1.650957036796612, -0.04631559997355339, -2.8109111283582635, 0.6085149612200382, -3.8689180708072968, -0.11352552645990954, 1.2790479009158489, -3.199672574459278], [0.4656474625675102, 1.650957036796612, -0.04631559997355339, -2.8109111283582635, 0.6085149612200382, -3.8689180708072968, -0.11352552645990954, 1.2790479009158489, -3.199672574459278, -1.8308191837118315], [1.650957036796612, -0.04631559997355339, -2.8109111283582635, 0.6085149612200382, -3.8689180708072968, -0.11352552645990954, 1.2790479009158489, -3.199672574459278, -1.8308191837118315, -0.6077313805192404], [-0.04631559997355339, -2.8109111283582635, 0.6085149612200382, -3.8689180708072968, -0.11352552645990954, 1.2790479009158489, -3.199672574459278, -1.8308191837118315, -0.6077313805192404, -1.7280993631402595], [-2.8109111283582635, 0.6085149612200382, -3.8689180708072968, -0.11352552645990954, 1.2790479009158489, -3.199672574459278, -1.8308191837118315, -0.6077313805192404, -1.7280993631402595, -0.49907514108041795], [0.6085149612200382, -3.8689180708072968, -0.11352552645990954, 1.2790479009158489, -3.199672574459278, -1.8308191837118315, -0.6077313805192404, -1.7280993631402595, -0.49907514108041795, -0.9017774032909713], [-3.8689180708072968, -0.11352552645990954, 1.2790479009158489, -3.199672574459278, -1.8308191837118315, -0.6077313805192404, -1.7280993631402595, -0.49907514108041795, -0.9017774032909713, -1.9945411455737272], [-0.11352552645990954, 1.2790479009158489, -3.199672574459278, -1.8308191837118315, -0.6077313805192404, -1.7280993631402595, -0.49907514108041795, -0.9017774032909713, -1.9945411455737272, -1.988411832633993], [1.2790479009158489, -3.199672574459278, -1.8308191837118315, -0.6077313805192404, -1.7280993631402595, -0.49907514108041795, -0.9017774032909713, -1.9945411455737272, -1.988411832633993, -2.022450161263219], [-3.199672574459278, -1.8308191837118315, -0.6077313805192404, -1.7280993631402595, -0.49907514108041795, -0.9017774032909713, -1.9945411455737272, -1.988411832633993, -2.022450161263219, -1.4026297956970346], [-1.8308191837118315, -0.6077313805192404, -1.7280993631402595, -0.49907514108041795, -0.9017774032909713, -1.9945411455737272, -1.988411832633993, -2.022450161263219, -1.4026297956970346, -0.9743527262430227], [-0.6077313805192404, -1.7280993631402595, -0.49907514108041795, -0.9017774032909713, -1.9945411455737272, -1.988411832633993, -2.022450161263219, -1.4026297956970346, -0.9743527262430227, -0.8978654086059201], [-1.7280993631402595, -0.49907514108041795, -0.9017774032909713, -1.9945411455737272, -1.988411832633993, -2.022450161263219, -1.4026297956970346, -0.9743527262430227, -0.8978654086059201, -3.4767919683314936], [-0.49907514108041795, -0.9017774032909713, -1.9945411455737272, -1.988411832633993, -2.022450161263219, -1.4026297956970346, -0.9743527262430227, -0.8978654086059201, -3.4767919683314936, 0.5401781142996072], [-0.9017774032909713, -1.9945411455737272, -1.988411832633993, -2.022450161263219, -1.4026297956970346, -0.9743527262430227, -0.8978654086059201, -3.4767919683314936, 0.5401781142996072, -2.5294003401736447], [-1.9945411455737272, -1.988411832633993, -2.022450161263219, -1.4026297956970346, -0.9743527262430227, -0.8978654086059201, -3.4767919683314936, 0.5401781142996072, -2.5294003401736447, -1.7783306019950018], [-1.988411832633993, -2.022450161263219, -1.4026297956970346, -0.9743527262430227, -0.8978654086059201, -3.4767919683314936, 0.5401781142996072, -2.5294003401736447, -1.7783306019950018, -0.729128964930684], [-2.022450161263219, -1.4026297956970346, -0.9743527262430227, -0.8978654086059201, -3.4767919683314936, 0.5401781142996072, -2.5294003401736447, -1.7783306019950018, -0.729128964930684, -2.452007305020752], [-1.4026297956970346, -0.9743527262430227, -0.8978654086059201, -3.4767919683314936, 0.5401781142996072, -2.5294003401736447, -1.7783306019950018, -0.729128964930684, -2.452007305020752, -1.579452033566433], [-0.9743527262430227, -0.8978654086059201, -3.4767919683314936, 0.5401781142996072, -2.5294003401736447, -1.7783306019950018, -0.729128964930684, -2.452007305020752, -1.579452033566433, -1.0217736128176025], [-0.8978654086059201, -3.4767919683314936, 0.5401781142996072, -2.5294003401736447, -1.7783306019950018, -0.729128964930684, -2.452007305020752, -1.579452033566433, -1.0217736128176025, -1.1858211879560443], [-3.4767919683314936, 0.5401781142996072, -2.5294003401736447, -1.7783306019950018, -0.729128964930684, -2.452007305020752, -1.579452033566433, -1.0217736128176025, -1.1858211879560443, -0.6116817146097482], [0.5401781142996072, -2.5294003401736447, -1.7783306019950018, -0.729128964930684, -2.452007305020752, -1.579452033566433, -1.0217736128176025, -1.1858211879560443, -0.6116817146097482, -3.7845173886692507], [-2.5294003401736447, -1.7783306019950018, -0.729128964930684, -2.452007305020752, -1.579452033566433, -1.0217736128176025, -1.1858211879560443, -0.6116817146097482, -3.7845173886692507, 2.2500302614727072], [-1.7783306019950018, -0.729128964930684, -2.452007305020752, -1.579452033566433, -1.0217736128176025, -1.1858211879560443, -0.6116817146097482, -3.7845173886692507, 2.2500302614727072, -3.1316517793106398], [-0.729128964930684, -2.452007305020752, -1.579452033566433, -1.0217736128176025, -1.1858211879560443, -0.6116817146097482, -3.7845173886692507, 2.2500302614727072, -3.1316517793106398, 4.318970632128615], [-2.452007305020752, -1.579452033566433, -1.0217736128176025, -1.1858211879560443, -0.6116817146097482, -3.7845173886692507, 2.2500302614727072, -3.1316517793106398, 4.318970632128615, -3.048755159010163], [-1.579452033566433, -1.0217736128176025, -1.1858211879560443, -0.6116817146097482, -3.7845173886692507, 2.2500302614727072, -3.1316517793106398, 4.318970632128615, -3.048755159010163, 0.40523929765740796], [-1.0217736128176025, -1.1858211879560443, -0.6116817146097482, -3.7845173886692507, 2.2500302614727072, -3.1316517793106398, 4.318970632128615, -3.048755159010163, 0.40523929765740796, -3.807000145360342], [-1.1858211879560443, -0.6116817146097482, -3.7845173886692507, 2.2500302614727072, -3.1316517793106398, 4.318970632128615, -3.048755159010163, 0.40523929765740796, -3.807000145360342, -1.6304586627009359], [-0.6116817146097482, -3.7845173886692507, 2.2500302614727072, -3.1316517793106398, 4.318970632128615, -3.048755159010163, 0.40523929765740796, -3.807000145360342, -1.6304586627009359, 1.1803127764240582], [-3.7845173886692507, 2.2500302614727072, -3.1316517793106398, 4.318970632128615, -3.048755159010163, 0.40523929765740796, -3.807000145360342, -1.6304586627009359, 1.1803127764240582, -0.15776070218411764], [2.2500302614727072, -3.1316517793106398, 4.318970632128615, -3.048755159010163, 0.40523929765740796, -3.807000145360342, -1.6304586627009359, 1.1803127764240582, -0.15776070218411764, -1.9778888459021693], [-3.1316517793106398, 4.318970632128615, -3.048755159010163, 0.40523929765740796, -3.807000145360342, -1.6304586627009359, 1.1803127764240582, -0.15776070218411764, -1.9778888459021693, 1.019885999866338], [4.318970632128615, -3.048755159010163, 0.40523929765740796, -3.807000145360342, -1.6304586627009359, 1.1803127764240582, -0.15776070218411764, -1.9778888459021693, 1.019885999866338, -2.0601998394250156], [-3.048755159010163, 0.40523929765740796, -3.807000145360342, -1.6304586627009359, 1.1803127764240582, -0.15776070218411764, -1.9778888459021693, 1.019885999866338, -2.0601998394250156, 2.8207704447850976], [0.40523929765740796, -3.807000145360342, -1.6304586627009359, 1.1803127764240582, -0.15776070218411764, -1.9778888459021693, 1.019885999866338, -2.0601998394250156, 2.8207704447850976, 3.285106580405986], [-3.807000145360342, -1.6304586627009359, 1.1803127764240582, -0.15776070218411764, -1.9778888459021693, 1.019885999866338, -2.0601998394250156, 2.8207704447850976, 3.285106580405986, 0.42539910109884893], [-1.6304586627009359, 1.1803127764240582, -0.15776070218411764, -1.9778888459021693, 1.019885999866338, -2.0601998394250156, 2.8207704447850976, 3.285106580405986, 0.42539910109884893, -3.780067082328682], [1.1803127764240582, -0.15776070218411764, -1.9778888459021693, 1.019885999866338, -2.0601998394250156, 2.8207704447850976, 3.285106580405986, 0.42539910109884893, -3.780067082328682, 10.74221284453169], [-0.15776070218411764, -1.9778888459021693, 1.019885999866338, -2.0601998394250156, 2.8207704447850976, 3.285106580405986, 0.42539910109884893, -3.780067082328682, 10.74221284453169, 9.653933641111099], [-1.9778888459021693, 1.019885999866338, -2.0601998394250156, 2.8207704447850976, 3.285106580405986, 0.42539910109884893, -3.780067082328682, 10.74221284453169, 9.653933641111099, 0.15430194617026416], [1.019885999866338, -2.0601998394250156, 2.8207704447850976, 3.285106580405986, 0.42539910109884893, -3.780067082328682, 10.74221284453169, 9.653933641111099, 0.15430194617026416, 1.3767394566748195], [-2.0601998394250156, 2.8207704447850976, 3.285106580405986, 0.42539910109884893, -3.780067082328682, 10.74221284453169, 9.653933641111099, 0.15430194617026416, 1.3767394566748195, 9.931278964532229], [2.8207704447850976, 3.285106580405986, 0.42539910109884893, -3.780067082328682, 10.74221284453169, 9.653933641111099, 0.15430194617026416, 1.3767394566748195, 9.931278964532229, 2.101690445172686], [3.285106580405986, 0.42539910109884893, -3.780067082328682, 10.74221284453169, 9.653933641111099, 0.15430194617026416, 1.3767394566748195, 9.931278964532229, 2.101690445172686, 10.701820837637783], [0.42539910109884893, -3.780067082328682, 10.74221284453169, 9.653933641111099, 0.15430194617026416, 1.3767394566748195, 9.931278964532229, 2.101690445172686, 10.701820837637783, 9.834919439932719], [-3.780067082328682, 10.74221284453169, 9.653933641111099, 0.15430194617026416, 1.3767394566748195, 9.931278964532229, 2.101690445172686, 10.701820837637783, 9.834919439932719, 12.825282453429452], [10.74221284453169, 9.653933641111099, 0.15430194617026416, 1.3767394566748195, 9.931278964532229, 2.101690445172686, 10.701820837637783, 9.834919439932719, 12.825282453429452, 13.509085496738336], [9.653933641111099, 0.15430194617026416, 1.3767394566748195, 9.931278964532229, 2.101690445172686, 10.701820837637783, 9.834919439932719, 12.825282453429452, 13.509085496738336, 18.86486780678834], [0.15430194617026416, 1.3767394566748195, 9.931278964532229, 2.101690445172686, 10.701820837637783, 9.834919439932719, 12.825282453429452, 13.509085496738336, 18.86486780678834, 18.458099309343993], [1.3767394566748195, 9.931278964532229, 2.101690445172686, 10.701820837637783, 9.834919439932719, 12.825282453429452, 13.509085496738336, 18.86486780678834, 18.458099309343993, 27.1595881147979], [9.931278964532229, 2.101690445172686, 10.701820837637783, 9.834919439932719, 12.825282453429452, 13.509085496738336, 18.86486780678834, 18.458099309343993, 27.1595881147979, 20.061229773727973], [2.101690445172686, 10.701820837637783, 9.834919439932719, 12.825282453429452, 13.509085496738336, 18.86486780678834, 18.458099309343993, 27.1595881147979, 20.061229773727973, 15.633094960221229], [10.701820837637783, 9.834919439932719, 12.825282453429452, 13.509085496738336, 18.86486780678834, 18.458099309343993, 27.1595881147979, 20.061229773727973, 15.633094960221229, 24.52834875010592], [9.834919439932719, 12.825282453429452, 13.509085496738336, 18.86486780678834, 18.458099309343993, 27.1595881147979, 20.061229773727973, 15.633094960221229, 24.52834875010592, 10.243899817990325], [12.825282453429452, 13.509085496738336, 18.86486780678834, 18.458099309343993, 27.1595881147979, 20.061229773727973, 15.633094960221229, 24.52834875010592, 10.243899817990325, 15.155154174442458], [13.509085496738336, 18.86486780678834, 18.458099309343993, 27.1595881147979, 20.061229773727973, 15.633094960221229, 24.52834875010592, 10.243899817990325, 15.155154174442458, 21.258852706818573], [18.86486780678834, 18.458099309343993, 27.1595881147979, 20.061229773727973, 15.633094960221229, 24.52834875010592, 10.243899817990325, 15.155154174442458, 21.258852706818573, 19.27386475458343], [18.458099309343993, 27.1595881147979, 20.061229773727973, 15.633094960221229, 24.52834875010592, 10.243899817990325, 15.155154174442458, 21.258852706818573, 19.27386475458343, 17.88203906446961], [27.1595881147979, 20.061229773727973, 15.633094960221229, 24.52834875010592, 10.243899817990325, 15.155154174442458, 21.258852706818573, 19.27386475458343, 17.88203906446961, 14.253492349686951], [20.061229773727973, 15.633094960221229, 24.52834875010592, 10.243899817990325, 15.155154174442458, 21.258852706818573, 19.27386475458343, 17.88203906446961, 14.253492349686951, 9.420411548557865], [15.633094960221229, 24.52834875010592, 10.243899817990325, 15.155154174442458, 21.258852706818573, 19.27386475458343, 17.88203906446961, 14.253492349686951, 9.420411548557865, 2.9218133875453987], [24.52834875010592, 10.243899817990325, 15.155154174442458, 21.258852706818573, 19.27386475458343, 17.88203906446961, 14.253492349686951, 9.420411548557865, 2.9218133875453987, -0.8305136789555263], [10.243899817990325, 15.155154174442458, 21.258852706818573, 19.27386475458343, 17.88203906446961, 14.253492349686951, 9.420411548557865, 2.9218133875453987, -0.8305136789555263, -0.9024375333983699], [15.155154174442458, 21.258852706818573, 19.27386475458343, 17.88203906446961, 14.253492349686951, 9.420411548557865, 2.9218133875453987, -0.8305136789555263, -0.9024375333983699, -1.996066274558018], [21.258852706818573, 19.27386475458343, 17.88203906446961, 14.253492349686951, 9.420411548557865, 2.9218133875453987, -0.8305136789555263, -0.9024375333983699, -1.996066274558018, -5.8022805618603], [19.27386475458343, 17.88203906446961, 14.253492349686951, 9.420411548557865, 2.9218133875453987, -0.8305136789555263, -0.9024375333983699, -1.996066274558018, -5.8022805618603, -3.7143683702373096], [17.88203906446961, 14.253492349686951, 9.420411548557865, 2.9218133875453987, -0.8305136789555263, -0.9024375333983699, -1.996066274558018, -5.8022805618603, -3.7143683702373096, -6.4186333506326605], [14.253492349686951, 9.420411548557865, 2.9218133875453987, -0.8305136789555263, -0.9024375333983699, -1.996066274558018, -5.8022805618603, -3.7143683702373096, -6.4186333506326605, -1.5881090390575423], [9.420411548557865, 2.9218133875453987, -0.8305136789555263, -0.9024375333983699, -1.996066274558018, -5.8022805618603, -3.7143683702373096, -6.4186333506326605, -1.5881090390575423, -0.24482285304304696], [2.9218133875453987, -0.8305136789555263, -0.9024375333983699, -1.996066274558018, -5.8022805618603, -3.7143683702373096, -6.4186333506326605, -1.5881090390575423, -0.24482285304304696, -1.4304671924263062], [-0.8305136789555263, -0.9024375333983699, -1.996066274558018, -5.8022805618603, -3.7143683702373096, -6.4186333506326605, -1.5881090390575423, -0.24482285304304696, -1.4304671924263062, 4.400872635204621], [-0.9024375333983699, -1.996066274558018, -5.8022805618603, -3.7143683702373096, -6.4186333506326605, -1.5881090390575423, -0.24482285304304696, -1.4304671924263062, 4.400872635204621, 6.223456725168717], [-1.996066274558018, -5.8022805618603, -3.7143683702373096, -6.4186333506326605, -1.5881090390575423, -0.24482285304304696, -1.4304671924263062, 4.400872635204621, 6.223456725168717, 9.202945075332195], [-5.8022805618603, -3.7143683702373096, -6.4186333506326605, -1.5881090390575423, -0.24482285304304696, -1.4304671924263062, 4.400872635204621, 6.223456725168717, 9.202945075332195, 3.7936575122685667], [-3.7143683702373096, -6.4186333506326605, -1.5881090390575423, -0.24482285304304696, -1.4304671924263062, 4.400872635204621, 6.223456725168717, 9.202945075332195, 3.7936575122685667, 7.39520509306692], [-6.4186333506326605, -1.5881090390575423, -0.24482285304304696, -1.4304671924263062, 4.400872635204621, 6.223456725168717, 9.202945075332195, 3.7936575122685667, 7.39520509306692, -3.722442626953125], [-1.5881090390575423, -0.24482285304304696, -1.4304671924263062, 4.400872635204621, 6.223456725168717, 9.202945075332195, 3.7936575122685667, 7.39520509306692, -3.722442626953125, 15.584981563360031], [-0.24482285304304696, -1.4304671924263062, 4.400872635204621, 6.223456725168717, 9.202945075332195, 3.7936575122685667, 7.39520509306692, -3.722442626953125, 15.584981563360031, -2.600350972983506], [-1.4304671924263062, 4.400872635204621, 6.223456725168717, 9.202945075332195, 3.7936575122685667, 7.39520509306692, -3.722442626953125, 15.584981563360031, -2.600350972983506, 10.849365312904581], [4.400872635204621, 6.223456725168717, 9.202945075332195, 3.7936575122685667, 7.39520509306692, -3.722442626953125, 15.584981563360031, -2.600350972983506, 10.849365312904581, -0.25445214152694007], [6.223456725168717, 9.202945075332195, 3.7936575122685667, 7.39520509306692, -3.722442626953125, 15.584981563360031, -2.600350972983506, 10.849365312904581, -0.25445214152694007, -2.200570624377008], [9.202945075332195, 3.7936575122685667, 7.39520509306692, -3.722442626953125, 15.584981563360031, -2.600350972983506, 10.849365312904581, -0.25445214152694007, -2.200570624377008, 5.23301829216399], [3.7936575122685667, 7.39520509306692, -3.722442626953125, 15.584981563360031, -2.600350972983506, 10.849365312904581, -0.25445214152694007, -2.200570624377008, 5.23301829216399, -102.24750624424635], [7.39520509306692, -3.722442626953125, 15.584981563360031, -2.600350972983506, 10.849365312904581, -0.25445214152694007, -2.200570624377008, 5.23301829216399, -102.24750624424635, 100.52695352528846], [-3.722442626953125, 15.584981563360031, -2.600350972983506, 10.849365312904581, -0.25445214152694007, -2.200570624377008, 5.23301829216399, -102.24750624424635, 100.52695352528846, -1.507714226267069], [15.584981563360031, -2.600350972983506, 10.849365312904581, -0.25445214152694007, -2.200570624377008, 5.23301829216399, -102.24750624424635, 100.52695352528846, -1.507714226267069, 2.2823473197417457], [-2.600350972983506, 10.849365312904581, -0.25445214152694007, -2.200570624377008, 5.23301829216399, -102.24750624424635, 100.52695352528846, -1.507714226267069, 2.2823473197417457, 1.0319971260047964], [10.849365312904581, -0.25445214152694007, -2.200570624377008, 5.23301829216399, -102.24750624424635, 100.52695352528846, -1.507714226267069, 2.2823473197417457, 1.0319971260047964, -2.3311955256703527], [-0.25445214152694007, -2.200570624377008, 5.23301829216399, -102.24750624424635, 100.52695352528846, -1.507714226267069, 2.2823473197417457, 1.0319971260047964, -2.3311955256703527, -0.9275284945433668], [-2.200570624377008, 5.23301829216399, -102.24750624424635, 100.52695352528846, -1.507714226267069, 2.2823473197417457, 1.0319971260047964, -2.3311955256703527, -0.9275284945433668, 7.2082100933312745], [5.23301829216399, -102.24750624424635, 100.52695352528846, -1.507714226267069, 2.2823473197417457, 1.0319971260047964, -2.3311955256703527, -0.9275284945433668, 7.2082100933312745, -0.41988950101131195], [-102.24750624424635, 100.52695352528846, -1.507714226267069, 2.2823473197417457, 1.0319971260047964, -2.3311955256703527, -0.9275284945433668, 7.2082100933312745, -0.41988950101131195, 1.5404483104671272], [100.52695352528846, -1.507714226267069, 2.2823473197417457, 1.0319971260047964, -2.3311955256703527, -0.9275284945433668, 7.2082100933312745, -0.41988950101131195, 1.5404483104671272, 4.806897500148466], [-1.507714226267069, 2.2823473197417457, 1.0319971260047964, -2.3311955256703527, -0.9275284945433668, 7.2082100933312745, -0.41988950101131195, 1.5404483104671272, 4.806897500148466, -0.2315282142479873], [2.2823473197417457, 1.0319971260047964, -2.3311955256703527, -0.9275284945433668, 7.2082100933312745, -0.41988950101131195, 1.5404483104671272, 4.806897500148466, -0.2315282142479873, -6.293220036107698], [1.0319971260047964, -2.3311955256703527, -0.9275284945433668, 7.2082100933312745, -0.41988950101131195, 1.5404483104671272, 4.806897500148466, -0.2315282142479873, -6.293220036107698, 6.877755728249156], [-2.3311955256703527, -0.9275284945433668, 7.2082100933312745, -0.41988950101131195, 1.5404483104671272, 4.806897500148466, -0.2315282142479873, -6.293220036107698, 6.877755728249156, 3.9000879055667497], [-0.9275284945433668, 7.2082100933312745, -0.41988950101131195, 1.5404483104671272, 4.806897500148466, -0.2315282142479873, -6.293220036107698, 6.877755728249156, 3.9000879055667497, -3.371045200336596], [7.2082100933312745, -0.41988950101131195, 1.5404483104671272, 4.806897500148466, -0.2315282142479873, -6.293220036107698, 6.877755728249156, 3.9000879055667497, -3.371045200336596, 2.7407311968703993], [-0.41988950101131195, 1.5404483104671272, 4.806897500148466, -0.2315282142479873, -6.293220036107698, 6.877755728249156, 3.9000879055667497, -3.371045200336596, 2.7407311968703993, 0.4031711091627699], [1.5404483104671272, 4.806897500148466, -0.2315282142479873, -6.293220036107698, 6.877755728249156, 3.9000879055667497, -3.371045200336596, 2.7407311968703993, 0.4031711091627699, -2.1855473376876944], [4.806897500148466, -0.2315282142479873, -6.293220036107698, 6.877755728249156, 3.9000879055667497, -3.371045200336596, 2.7407311968703993, 0.4031711091627699, -2.1855473376876944, 1.9561818976077348], [-0.2315282142479873, -6.293220036107698, 6.877755728249156, 3.9000879055667497, -3.371045200336596, 2.7407311968703993, 0.4031711091627699, -2.1855473376876944, 1.9561818976077348, -0.12077929994825354], [-6.293220036107698, 6.877755728249156, 3.9000879055667497, -3.371045200336596, 2.7407311968703993, 0.4031711091627699, -2.1855473376876944, 1.9561818976077348, -0.12077929994825354, 4.525498183615468], [6.877755728249156, 3.9000879055667497, -3.371045200336596, 2.7407311968703993, 0.4031711091627699, -2.1855473376876944, 1.9561818976077348, -0.12077929994825354, 4.525498183615468, -0.5422592049890227], [3.9000879055667497, -3.371045200336596, 2.7407311968703993, 0.4031711091627699, -2.1855473376876944, 1.9561818976077348, -0.12077929994825354, 4.525498183615468, -0.5422592049890227, -0.0977889833535528], [-3.371045200336596, 2.7407311968703993, 0.4031711091627699, -2.1855473376876944, 1.9561818976077348, -0.12077929994825354, 4.525498183615468, -0.5422592049890227, -0.0977889833535528, -0.4137484553305626], [2.7407311968703993, 0.4031711091627699, -2.1855473376876944, 1.9561818976077348, -0.12077929994825354, 4.525498183615468, -0.5422592049890227, -0.0977889833535528, -0.4137484553305626, 0.5537808075856674], [0.4031711091627699, -2.1855473376876944, 1.9561818976077348, -0.12077929994825354, 4.525498183615468, -0.5422592049890227, -0.0977889833535528, -0.4137484553305626, 0.5537808075856674, -1.4629333507412525], [-2.1855473376876944, 1.9561818976077348, -0.12077929994825354, 4.525498183615468, -0.5422592049890227, -0.0977889833535528, -0.4137484553305626, 0.5537808075856674, -1.4629333507412525, 1.2982408144352462], [1.9561818976077348, -0.12077929994825354, 4.525498183615468, -0.5422592049890227, -0.0977889833535528, -0.4137484553305626, 0.5537808075856674, -1.4629333507412525, 1.2982408144352462, 1.0506393477896836], [-0.12077929994825354, 4.525498183615468, -0.5422592049890227, -0.0977889833535528, -0.4137484553305626, 0.5537808075856674, -1.4629333507412525, 1.2982408144352462, 1.0506393477896836, 0.1350143387337539], [4.525498183615468, -0.5422592049890227, -0.0977889833535528, -0.4137484553305626, 0.5537808075856674, -1.4629333507412525, 1.2982408144352462, 1.0506393477896836, 0.1350143387337539, -2.216244207999125], [-0.5422592049890227, -0.0977889833535528, -0.4137484553305626, 0.5537808075856674, -1.4629333507412525, 1.2982408144352462, 1.0506393477896836, 0.1350143387337539, -2.216244207999125, 2.6034471415624125], [-0.0977889833535528, -0.4137484553305626, 0.5537808075856674, -1.4629333507412525, 1.2982408144352462, 1.0506393477896836, 0.1350143387337539, -2.216244207999125, 2.6034471415624125, -0.5564218628653634], [-0.4137484553305626, 0.5537808075856674, -1.4629333507412525, 1.2982408144352462, 1.0506393477896836, 0.1350143387337539, -2.216244207999125, 2.6034471415624125, -0.5564218628653634, -3.2036963443020454], [0.5537808075856674, -1.4629333507412525, 1.2982408144352462, 1.0506393477896836, 0.1350143387337539, -2.216244207999125, 2.6034471415624125, -0.5564218628653634, -3.2036963443020454, 0.4570205869590609], [-1.4629333507412525, 1.2982408144352462, 1.0506393477896836, 0.1350143387337539, -2.216244207999125, 2.6034471415624125, -0.5564218628653634, -3.2036963443020454, 0.4570205869590609, -0.6333669102156705]]\n",
            "120\n"
          ],
          "name": "stdout"
        }
      ]
    },
    {
      "cell_type": "code",
      "metadata": {
        "id": "cgazSjRZ31gp",
        "colab_type": "code",
        "colab": {
          "base_uri": "https://localhost:8080/",
          "height": 326
        },
        "outputId": "aded681d-de31-473a-d83e-038976a68b70"
      },
      "source": [
        "# mating with idea the testing data\n",
        "TotalPositive=0\n",
        "for i in test_list:\n",
        "  fall=0\n",
        "  for j in i:\n",
        "    for k in ideal_slope:\n",
        "      if(k-1<=j<=k+1): # as we are dealing we the fall cases and fall cases have slope inclined toward y_axis and we know slope is tan(teta) which highly vary with small change in x coordinate\n",
        "      # so once again cause of this we added 1 as the error!.\n",
        "        fall+=1\n",
        "        # print(\"Suspected Fall\")\n",
        "        break\n",
        "  if(fall>=10): # if strictly 10 frane have similar nature we say suspected a fall.\n",
        "    print(\"Suspected Fall\")\n",
        "    # print(i)\n",
        "    TotalPositive+=1\n",
        "  fall=0\n",
        "print(TotalPositive)"
      ],
      "execution_count": 163,
      "outputs": [
        {
          "output_type": "stream",
          "text": [
            "Suspected Fall\n",
            "Suspected Fall\n",
            "Suspected Fall\n",
            "Suspected Fall\n",
            "Suspected Fall\n",
            "Suspected Fall\n",
            "Suspected Fall\n",
            "Suspected Fall\n",
            "Suspected Fall\n",
            "Suspected Fall\n",
            "Suspected Fall\n",
            "Suspected Fall\n",
            "Suspected Fall\n",
            "Suspected Fall\n",
            "Suspected Fall\n",
            "Suspected Fall\n",
            "16\n"
          ],
          "name": "stdout"
        }
      ]
    },
    {
      "cell_type": "code",
      "metadata": {
        "id": "MjyjqrXyHkw6",
        "colab_type": "code",
        "colab": {
          "base_uri": "https://localhost:8080/",
          "height": 283
        },
        "outputId": "76bfa3f3-8aa2-4af2-fcb3-74deeff100ed"
      },
      "source": [
        "#scaled ploting of testing\n",
        "df_only_fall['Head_y']=((df_only_fall['Head_y']-min(df_only_fall['Head_y']))/(max(df_only_fall['Head_y'])-min(df_only_fall['Head_y'])))*10\n",
        "\n",
        "print(len(df_only_fall['Head_y']))\n",
        "\n",
        "t=1/30\n",
        "test_time_x_axis=[]\n",
        "\n",
        "for i in df_only_fall['Head_y']:\n",
        "  test_time_x_axis.append(t)\n",
        "  t+=(1/30)\n",
        "\n",
        "plot.scatter(test_time_x_axis, df_only_fall['Head_y'])\n",
        "plot.axhline(y=0, color='red')\n",
        "\n",
        "plot.show()"
      ],
      "execution_count": 164,
      "outputs": [
        {
          "output_type": "stream",
          "text": [
            "131\n"
          ],
          "name": "stdout"
        },
        {
          "output_type": "display_data",
          "data": {
            "image/png": "[encoded data removed]",
            "text/plain": [
              "<Figure size 432x288 with 1 Axes>"
            ]
          },
          "metadata": {
            "tags": [],
            "needs_background": "light"
          }
        }
      ]
    }
  ]
}